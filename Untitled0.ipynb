{
  "nbformat": 4,
  "nbformat_minor": 0,
  "metadata": {
    "colab": {
      "provenance": [],
      "gpuType": "T4"
    },
    "kernelspec": {
      "name": "python3",
      "display_name": "Python 3"
    },
    "language_info": {
      "name": "python"
    },
    "accelerator": "GPU"
  },
  "cells": [
    {
      "cell_type": "code",
      "source": [
        "a=1\n",
        "print(a)"
      ],
      "metadata": {
        "colab": {
          "base_uri": "https://localhost:8080/"
        },
        "id": "iKrzwQhUWdJN",
        "outputId": "4ee0fada-17a0-4088-a532-2845da54ed05"
      },
      "execution_count": 15,
      "outputs": [
        {
          "output_type": "stream",
          "name": "stdout",
          "text": [
            "1\n"
          ]
        }
      ]
    },
    {
      "cell_type": "code",
      "source": [
        "a=1\n",
        "b=a\n",
        "a=2\n",
        "print(a)\n",
        "print(b)"
      ],
      "metadata": {
        "colab": {
          "base_uri": "https://localhost:8080/"
        },
        "id": "Bhi7Crx8TCnx",
        "outputId": "4309d3e4-e8d4-402b-8841-e45a467acbd6"
      },
      "execution_count": 5,
      "outputs": [
        {
          "output_type": "stream",
          "name": "stdout",
          "text": [
            "2\n",
            "1\n"
          ]
        }
      ]
    },
    {
      "cell_type": "code",
      "source": [
        "a=\"\"\"tongtszki is a a a a a a a a a bdsabdhbashdbhjbcjkbxzkjbuwbudbcjbauhuheuqhufdbuhfauihduhoqfubjabuhausdhubuivbubuifdiuc\"\"\"\n",
        "print(a)"
      ],
      "metadata": {
        "colab": {
          "base_uri": "https://localhost:8080/"
        },
        "id": "xCi7E8yRTm4V",
        "outputId": "bc8e91c3-ccb3-40ba-901e-c748de3110d5"
      },
      "execution_count": 6,
      "outputs": [
        {
          "output_type": "stream",
          "name": "stdout",
          "text": [
            "tongtszki is a a a a a a a a a bdsabdhbashdbhjbcjkbxzkjbuwbudbcjbauhuheuqhufdbuhfauihduhoqfubjabuhausdhubuivbubuifdiuc\n"
          ]
        }
      ]
    },
    {
      "cell_type": "code",
      "source": [
        "a='0123456789abcdef'\n",
        "print(a[0])\n",
        "print(a[8])\n",
        "print(a[:])\n",
        "print(a[1:8:2])\n",
        "print(a[6:-2])"
      ],
      "metadata": {
        "colab": {
          "base_uri": "https://localhost:8080/"
        },
        "id": "H8KBZJoyUi12",
        "outputId": "e2806e4c-7a1c-4809-da02-87bc786d9223"
      },
      "execution_count": 14,
      "outputs": [
        {
          "output_type": "stream",
          "name": "stdout",
          "text": [
            "0\n",
            "8\n",
            "0123456789abcdef\n",
            "1357\n",
            "6789abcd\n"
          ]
        }
      ]
    },
    {
      "cell_type": "code",
      "source": [
        "a='hello world'\n",
        "print(len(a))"
      ],
      "metadata": {
        "colab": {
          "base_uri": "https://localhost:8080/"
        },
        "id": "zKrEM-t8Wa3O",
        "outputId": "8c72c605-8137-4ab7-c572-6a0fc1bfefe2"
      },
      "execution_count": 16,
      "outputs": [
        {
          "output_type": "stream",
          "name": "stdout",
          "text": [
            "11\n"
          ]
        }
      ]
    },
    {
      "cell_type": "code",
      "source": [
        "a='hello world,i am tongtszki,123456789?'\n",
        "b=a.split(',')\n",
        "c=a.split(' ')\n",
        "d=a.split()\n",
        "print(b)\n",
        "print(c)\n",
        "print(d)\n"
      ],
      "metadata": {
        "colab": {
          "base_uri": "https://localhost:8080/"
        },
        "id": "-kHFWzfeXR03",
        "outputId": "c5676b26-b322-4a52-f07a-5ed1f2efe806"
      },
      "execution_count": 42,
      "outputs": [
        {
          "output_type": "stream",
          "name": "stdout",
          "text": [
            "['hello world', 'i am tongtszki', '123456789?']\n",
            "['hello', 'world,i', 'am', 'tongtszki,123456789?']\n",
            "['hello', 'world,i', 'am', 'tongtszki,123456789?']\n"
          ]
        }
      ]
    },
    {
      "cell_type": "code",
      "source": [
        "a=['apple','banana','orange']\n",
        "b=[1,2,3,4,5]\n",
        "c=['apple',1,2,3,['dog','cat']]\n",
        "d=list('apple')\n",
        "print(a)\n",
        "print(b)\n",
        "print(c)\n",
        "print(d)"
      ],
      "metadata": {
        "colab": {
          "base_uri": "https://localhost:8080/"
        },
        "id": "exH15XclblAp",
        "outputId": "047db386-be72-4dac-f32f-afb808c1a19f"
      },
      "execution_count": 66,
      "outputs": [
        {
          "output_type": "stream",
          "name": "stdout",
          "text": [
            "['apple', 'banana', 'orange']\n",
            "[1, 2, 3, 4, 5]\n",
            "['apple', 1, 2, 3, ['dog', 'cat']]\n",
            "['a', 'p', 'p', 'l', 'e']\n"
          ]
        }
      ]
    },
    {
      "cell_type": "code",
      "source": [
        "from pickle import TUPLE2\n",
        "t=('apple','banana','orange','grap')\n",
        "a,b,c,d=t\n",
        "print(a)\n",
        "print(b)\n",
        "print(c)\n",
        "print(d)\n",
        "\n",
        "print(t[0])\n",
        "print(t[1])\n",
        "print(t[2])\n",
        "print(t[3])\n",
        "\n",
        "t1=('apple','banana','orange')\n",
        "t2=('grap','abc')\n",
        "t=t1+t2\n",
        "print(t)"
      ],
      "metadata": {
        "colab": {
          "base_uri": "https://localhost:8080/"
        },
        "id": "YNzWJB_Zdnq1",
        "outputId": "69a8e781-1547-4ab8-f9f0-5a39cced872f"
      },
      "execution_count": 68,
      "outputs": [
        {
          "output_type": "stream",
          "name": "stdout",
          "text": [
            "apple\n",
            "banana\n",
            "orange\n",
            "grap\n",
            "apple\n",
            "banana\n",
            "orange\n",
            "grap\n",
            "('apple', 'banana', 'orange', 'grap', 'abc')\n"
          ]
        }
      ]
    },
    {
      "cell_type": "code",
      "source": [
        "a=dict(name='abc',age=99,eat=['apple','banana'])\n",
        "print(a)\n",
        "print(type(a))"
      ],
      "metadata": {
        "colab": {
          "base_uri": "https://localhost:8080/"
        },
        "id": "K7PKpOfJeygK",
        "outputId": "e9069486-8fd0-4279-d86c-1802b637cb0d"
      },
      "execution_count": 70,
      "outputs": [
        {
          "output_type": "stream",
          "name": "stdout",
          "text": [
            "{'name': 'abc', 'age': 99, 'eat': ['apple', 'banana']}\n",
            "<class 'dict'>\n"
          ]
        }
      ]
    },
    {
      "cell_type": "code",
      "source": [
        "a=set()\n",
        "b=set([1,2,3,4,5,6,7,8,9,])\n",
        "c=set({'x':1,'y':2,'z':3})\n",
        "d=set('hello')\n",
        "print(a)\n",
        "print(b)\n",
        "print(c)\n",
        "print(d)"
      ],
      "metadata": {
        "colab": {
          "base_uri": "https://localhost:8080/"
        },
        "id": "olyY2hYKgBqG",
        "outputId": "6e8b7c09-9cbc-4750-fdf4-1f0a2daa74ba"
      },
      "execution_count": 74,
      "outputs": [
        {
          "output_type": "stream",
          "name": "stdout",
          "text": [
            "set()\n",
            "{1, 2, 3, 4, 5, 6, 7, 8, 9}\n",
            "{'x', 'y', 'z'}\n",
            "{'h', 'o', 'l', 'e'}\n"
          ]
        }
      ]
    },
    {
      "cell_type": "code",
      "source": [],
      "metadata": {
        "id": "GuxVOf1agzcJ"
      },
      "execution_count": null,
      "outputs": []
    }
  ]
}