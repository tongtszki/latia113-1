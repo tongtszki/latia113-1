{
  "nbformat": 4,
  "nbformat_minor": 0,
  "metadata": {
    "colab": {
      "provenance": []
    },
    "kernelspec": {
      "name": "python3",
      "display_name": "Python 3"
    },
    "language_info": {
      "name": "python"
    }
  },
  "cells": [
    {
      "cell_type": "code",
      "execution_count": null,
      "metadata": {
        "id": "eCvWNk85puLI"
      },
      "outputs": [],
      "source": [
        "import pandas as pd\n",
        "import numpy as np\n",
        "\n",
        "df = pd.read_csv('A_stat_data_112.csv')\n",
        "literature_df = df[df['mission_field'] == '生活知識 ']\n",
        "\n",
        "difficulty_mapping = {'易': 1, '中': 2, '難': 3}\n",
        "literature_df['mission_difficulty'] =literature_df['mission_difficulty'].map(difficulty_mapping)\n",
        "\n",
        "literature_df = literature_df.sort_values(by='mission_status',ascending=True).reset_index(drop=True)\n",
        "\n",
        "hard_literature_df = literature_df[literature_df['mission_difficulty']== 1 ]\n",
        "misson_status_literature_df =hard_literature_df[hard_literature_df['mission_status'] == '已派發任務']\n",
        "\n",
        "from google.colab import auth\n",
        "auth.authenticate_user()\n",
        "import gspread\n",
        "from google.auth import default\n",
        "creds,_=default()\n",
        "gc = gspread.authorize(creds)\n",
        "\n",
        "gsheets =gc.open_by_url(\"https://docs.google.com/spreadsheets/d/1g1PsCkw_XbRXzAalvIKBC2A6ubhknInlCToT54O3y3g/edit?gid=0#gid=0\")\n",
        "\n",
        "from gspread_dataframe import set_with_dataframe\n",
        "#select new sheets\n",
        "worksheet = gsheets.get_worksheet(0)\n",
        "#taking your DataFrame into Googlesheets\n",
        "set_with_dataframe(worksheet,misson_status_literature_df)"
      ]
    },
    {
      "cell_type": "code",
      "source": [
        "import matplotlib.pyplot as plt\n",
        "\n",
        "# 資料\n",
        "difficulty_levels = [1, 2, 3]  # 用數字代表難度：1 = 易, 2 = 中, 3 = 難\n",
        "completion_rates = [40.10, 30.67, 38.22]  # 易, 中, 難的完成率\n",
        "\n",
        "# 繪製折線圖\n",
        "plt.figure(figsize=(8, 6))\n",
        "plt.plot(difficulty_levels, completion_rates, marker='o', linestyle='-', linewidth=2)\n",
        "\n",
        "# 添加標籤和標題\n",
        "plt.title('文化難度與完成率', fontsize=16)\n",
        "plt.xlabel('難度級別 (1: 易, 2: 中, 3: 難)', fontsize=14)\n",
        "plt.ylabel('完成率 (%)', fontsize=14)\n",
        "\n",
        "# 顯示數值標籤\n",
        "for i, rate in enumerate(completion_rates):\n",
        "    plt.text(difficulty_levels[i], rate, f'{rate:.2f}%', ha='center', va='bottom', fontsize=12)\n",
        "\n",
        "# 設定橫軸範圍和刻度\n",
        "plt.xticks([1, 2, 3])  # 確保顯示數字 1, 2, 3\n",
        "\n",
        "# 顯示圖表\n",
        "plt.grid(axis='y', linestyle='--', alpha=0.7)\n",
        "plt.tight_layout()\n",
        "plt.show()\n"
      ],
      "metadata": {
        "id": "gVVN4QDCpzjL"
      },
      "execution_count": null,
      "outputs": []
    },
    {
      "cell_type": "code",
      "source": [],
      "metadata": {
        "id": "CkYTpmoUp3Dk"
      },
      "execution_count": null,
      "outputs": []
    }
  ]
}